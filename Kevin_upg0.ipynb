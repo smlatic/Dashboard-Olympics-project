{
 "cells": [
  {
   "cell_type": "code",
   "execution_count": null,
   "metadata": {},
   "outputs": [],
   "source": []
  }
 ],
 "metadata": {
  "kernelspec": {
   "display_name": "Python 3.9.13 ('Databehandling-Sara-Gunnars-eCLNb3Xv')",
   "language": "python",
   "name": "python3"
  },
  "language_info": {
   "name": "python",
   "version": "3.9.13"
  },
  "orig_nbformat": 4,
  "vscode": {
   "interpreter": {
    "hash": "d0ba6f52ecac7a57f4e03a14ec8c3434ea2f575d9bdcb760077bc4a40a07f13e"
   }
  }
 },
 "nbformat": 4,
 "nbformat_minor": 2
}
